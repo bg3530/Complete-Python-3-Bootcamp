{
  "nbformat": 4,
  "nbformat_minor": 0,
  "metadata": {
    "colab": {
      "name": "Untitled0.ipynb",
      "provenance": [],
      "authorship_tag": "ABX9TyNqSBmvHpAunuwgxoT0GueN",
      "include_colab_link": true
    },
    "kernelspec": {
      "name": "python3",
      "display_name": "Python 3"
    }
  },
  "cells": [
    {
      "cell_type": "markdown",
      "metadata": {
        "id": "view-in-github",
        "colab_type": "text"
      },
      "source": [
        "<a href=\"https://colab.research.google.com/github/bg3530/Complete-Python-3-Bootcamp/blob/master/Exs%206-7.ipynb\" target=\"_parent\"><img src=\"https://colab.research.google.com/assets/colab-badge.svg\" alt=\"Open In Colab\"/></a>"
      ]
    },
    {
      "cell_type": "code",
      "metadata": {
        "id": "WQn6IoB6OT6r",
        "colab_type": "code",
        "outputId": "9d17db2c-12ac-4543-effa-6118f4047917",
        "colab": {
          "base_uri": "https://localhost:8080/",
          "height": 119
        }
      },
      "source": [
        "Cost = float(input(\"Enter the cost of the meal:\"))\n",
        "Tax = float(input(\"Enter the local sales tax rate:\"))\n",
        "Tip = float(input(\"How much tip would you like to give:\"))\n",
        "Taxpaid = Cost*Tax\n",
        "Tippaid = Cost*Tip\n",
        "TotalCost = Cost + Taxpaid + Tippaid\n",
        "print(\"Your tax for the meal is $%.2f.\" % Taxpaid)\n",
        "print(\"Your tip for the meal is $%.2f.\" % Tippaid)\n",
        "print(\"Your total cost for the meal is $%.2f.\" % TotalCost)"
      ],
      "execution_count": 0,
      "outputs": [
        {
          "output_type": "stream",
          "text": [
            "Enter the cost of the meal:9\n",
            "Enter the local sales tax rate:.09\n",
            "How much tip would you like to give:.018\n",
            "Your tax for the meal is $0.81.\n",
            "Your tip for the meal is $0.16.\n",
            "Your total cost for the meal is $9.97.\n"
          ],
          "name": "stdout"
        }
      ]
    },
    {
      "cell_type": "code",
      "metadata": {
        "id": "3Hn0Gp8cUF2J",
        "colab_type": "code",
        "outputId": "f271c6a2-1a70-4c51-9f9b-3ef2496419ab",
        "colab": {
          "base_uri": "https://localhost:8080/",
          "height": 51
        }
      },
      "source": [
        "_number = float(input(\"Enter a positive integer:\"))\n",
        "_total = (_number*(_number + 1))/2\n",
        "print(\"The sum of first\", _number, \"positive integers is\", _total)"
      ],
      "execution_count": 0,
      "outputs": [
        {
          "output_type": "stream",
          "text": [
            "Enter a positive integer:9\n",
            "The sum of first 9.0 positive integers is 45.0\n"
          ],
          "name": "stdout"
        }
      ]
    }
  ]
}